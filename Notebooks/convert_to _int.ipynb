{
 "cells": [
  {
   "cell_type": "code",
   "execution_count": 1,
   "id": "b399a3ad-b788-448a-9d70-82147c9a8fa5",
   "metadata": {},
   "outputs": [],
   "source": [
    "import pandas as pd"
   ]
  },
  {
   "cell_type": "code",
   "execution_count": 2,
   "id": "1162281a-66bd-40a8-9a8b-66ec66625843",
   "metadata": {},
   "outputs": [],
   "source": [
    "data = pd.read_csv('/home/sinatavakoli2022/Retail-Data-Pipeline/Airflow/data/retail_new_data.csv')"
   ]
  },
  {
   "cell_type": "code",
   "execution_count": 3,
   "id": "951846de-6dfe-4902-995c-dad467193f41",
   "metadata": {},
   "outputs": [
    {
     "name": "stdout",
     "output_type": "stream",
     "text": [
      "<class 'pandas.core.frame.DataFrame'>\n",
      "RangeIndex: 302010 entries, 0 to 302009\n",
      "Data columns (total 30 columns):\n",
      " #   Column            Non-Null Count   Dtype  \n",
      "---  ------            --------------   -----  \n",
      " 0   Transaction_ID    302010 non-null  int64  \n",
      " 1   Customer_ID       302010 non-null  int64  \n",
      " 2   Name              301628 non-null  object \n",
      " 3   Email             301663 non-null  object \n",
      " 4   Phone             301648 non-null  float64\n",
      " 5   Address           301695 non-null  object \n",
      " 6   City              301762 non-null  object \n",
      " 7   State             301729 non-null  object \n",
      " 8   Zipcode           301670 non-null  float64\n",
      " 9   Country           301739 non-null  object \n",
      " 10  Age               302010 non-null  int64  \n",
      " 11  Gender            301693 non-null  object \n",
      " 12  Income            301720 non-null  object \n",
      " 13  Customer_Segment  301795 non-null  object \n",
      " 14  Date              301651 non-null  object \n",
      " 15  Year              302010 non-null  int64  \n",
      " 16  Month             301737 non-null  object \n",
      " 17  Time              301660 non-null  object \n",
      " 18  Total_Purchases   302010 non-null  int64  \n",
      " 19  Amount            301653 non-null  float64\n",
      " 20  Total_Amount      301660 non-null  float64\n",
      " 21  Product_Category  301727 non-null  object \n",
      " 22  Product_Brand     301729 non-null  object \n",
      " 23  Product_Type      302010 non-null  object \n",
      " 24  Feedback          301826 non-null  object \n",
      " 25  Shipping_Method   301673 non-null  object \n",
      " 26  Payment_Method    301713 non-null  object \n",
      " 27  Order_Status      301775 non-null  object \n",
      " 28  Ratings           301826 non-null  float64\n",
      " 29  products          302010 non-null  object \n",
      "dtypes: float64(5), int64(5), object(20)\n",
      "memory usage: 69.1+ MB\n"
     ]
    }
   ],
   "source": [
    "data.info()"
   ]
  },
  {
   "cell_type": "code",
   "execution_count": null,
   "id": "f9491958-2a96-41a7-a776-a2a10460a394",
   "metadata": {},
   "outputs": [],
   "source": [
    "data['Total_Purchases'] = data['Total_Purchases'].fillna(0).astype(int)\n",
    "data['Age'] = data['Age'].fillna(0).astype(int)\n",
    "data['Year'] = data['Year'].fillna(0).astype(int)\n",
    "data['Transaction_ID'] = data['Transaction_ID'].fillna(0).astype(int)\n",
    "data['Customer_ID'] = data['Customer_ID'].fillna(0).astype(int)\n",
    "data['Date'] = pd.to_datetime(data['Date'], format='%m/%d/%Y').dt.strftime('%Y-%m-%d')"
   ]
  },
  {
   "cell_type": "code",
   "execution_count": null,
   "id": "bf9c0ff6-4dca-4fee-90d2-d67cb0270e23",
   "metadata": {},
   "outputs": [],
   "source": [
    "data.info()"
   ]
  },
  {
   "cell_type": "code",
   "execution_count": null,
   "id": "09cab62a-c1c9-488b-8106-4fac284b101e",
   "metadata": {},
   "outputs": [],
   "source": [
    "data = pd.read_csv('/home/sinatavakoli2022/Retail-Data-Pipeline/Airflow/data/retail_new_data.csv',dtype={\n",
    "    'Total_Purchases': int,\n",
    "    'Age': int,\n",
    "    'Year': int,\n",
    "    'Transaction_ID':int,\n",
    "    'Customer_ID':int\n",
    "})"
   ]
  },
  {
   "cell_type": "code",
   "execution_count": null,
   "id": "e2d670c5-d5ad-4182-8fc9-fa09c72fd024",
   "metadata": {},
   "outputs": [],
   "source": [
    "data['products'].head()"
   ]
  }
 ],
 "metadata": {
  "kernelspec": {
   "display_name": "Python 3 (ipykernel)",
   "language": "python",
   "name": "python3"
  },
  "language_info": {
   "codemirror_mode": {
    "name": "ipython",
    "version": 3
   },
   "file_extension": ".py",
   "mimetype": "text/x-python",
   "name": "python",
   "nbconvert_exporter": "python",
   "pygments_lexer": "ipython3",
   "version": "3.12.7"
  }
 },
 "nbformat": 4,
 "nbformat_minor": 5
}
