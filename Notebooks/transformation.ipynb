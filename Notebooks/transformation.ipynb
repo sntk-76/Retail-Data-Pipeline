{
 "cells": [
  {
   "cell_type": "code",
   "execution_count": 1,
   "id": "4655deba-b3d0-4e69-82f3-dbf20728cc75",
   "metadata": {},
   "outputs": [],
   "source": [
    "import pandas as pd\n",
    "from pyspark.sql import SparkSession\n",
    "from pyspark.sql.functions import col,mean,lower,trim,to_date,when"
   ]
  },
  {
   "cell_type": "code",
   "execution_count": 2,
   "id": "25ec80d8-dfad-43d8-a1fc-67420afca665",
   "metadata": {},
   "outputs": [
    {
     "name": "stderr",
     "output_type": "stream",
     "text": [
      "Setting default log level to \"WARN\".\n",
      "To adjust logging level use sc.setLogLevel(newLevel). For SparkR, use setLogLevel(newLevel).\n",
      "25/04/01 09:13:11 WARN NativeCodeLoader: Unable to load native-hadoop library for your platform... using builtin-java classes where applicable\n"
     ]
    },
    {
     "name": "stdout",
     "output_type": "stream",
     "text": [
      "spark session was initialized successfully\n"
     ]
    }
   ],
   "source": [
    "spark = SparkSession.builder \\\n",
    "    .appName('Transformation')\\\n",
    "    .master('local[*]')\\\n",
    "    .getOrCreate()\n",
    "print('spark session was initialized successfully')"
   ]
  },
  {
   "cell_type": "code",
   "execution_count": 3,
   "id": "42449909-8cce-4898-9f93-adba9dcf3d40",
   "metadata": {},
   "outputs": [],
   "source": [
    "raw_data = spark.read.csv('/home/sinatavakoli2022/Retail-Data-Pipeline/Airflow/data/retail_raw_data.csv',header=True)\n",
    "df = pd.read_csv('/home/sinatavakoli2022/Retail-Data-Pipeline/Airflow/data/retail_raw_data.csv')"
   ]
  },
  {
   "cell_type": "code",
   "execution_count": 4,
   "id": "c4d8d7b1-57d6-4ffd-b08b-f150b4770420",
   "metadata": {},
   "outputs": [
    {
     "name": "stdout",
     "output_type": "stream",
     "text": [
      "root\n",
      " |-- Transaction_ID: string (nullable = true)\n",
      " |-- Customer_ID: string (nullable = true)\n",
      " |-- Name: string (nullable = true)\n",
      " |-- Email: string (nullable = true)\n",
      " |-- Phone: string (nullable = true)\n",
      " |-- Address: string (nullable = true)\n",
      " |-- City: string (nullable = true)\n",
      " |-- State: string (nullable = true)\n",
      " |-- Zipcode: string (nullable = true)\n",
      " |-- Country: string (nullable = true)\n",
      " |-- Age: string (nullable = true)\n",
      " |-- Gender: string (nullable = true)\n",
      " |-- Income: string (nullable = true)\n",
      " |-- Customer_Segment: string (nullable = true)\n",
      " |-- Date: string (nullable = true)\n",
      " |-- Year: string (nullable = true)\n",
      " |-- Month: string (nullable = true)\n",
      " |-- Time: string (nullable = true)\n",
      " |-- Total_Purchases: string (nullable = true)\n",
      " |-- Amount: string (nullable = true)\n",
      " |-- Total_Amount: string (nullable = true)\n",
      " |-- Product_Category: string (nullable = true)\n",
      " |-- Product_Brand: string (nullable = true)\n",
      " |-- Product_Type: string (nullable = true)\n",
      " |-- Feedback: string (nullable = true)\n",
      " |-- Shipping_Method: string (nullable = true)\n",
      " |-- Payment_Method: string (nullable = true)\n",
      " |-- Order_Status: string (nullable = true)\n",
      " |-- Ratings: string (nullable = true)\n",
      " |-- products: string (nullable = true)\n",
      "\n"
     ]
    }
   ],
   "source": [
    "raw_data.printSchema()"
   ]
  },
  {
   "cell_type": "code",
   "execution_count": 5,
   "id": "65314afd-4d0d-47d9-b013-91653cc121a6",
   "metadata": {},
   "outputs": [
    {
     "name": "stderr",
     "output_type": "stream",
     "text": [
      "25/04/01 09:13:23 WARN SparkStringUtils: Truncated the string representation of a plan since it was too large. This behavior can be adjusted by setting 'spark.sql.debug.maxToStringFields'.\n"
     ]
    },
    {
     "name": "stdout",
     "output_type": "stream",
     "text": [
      "+--------------+-----------+-------------------+-------------------+------------+---------------------------+----------+---------------+-------+---------+----+------+------+----------------+----------+------+---------+--------+---------------+-----------+------------+----------------+-------------+------------+---------+---------------+--------------+------------+-------+-----------------+\n",
      "|Transaction_ID|Customer_ID|Name               |Email              |Phone       |Address                    |City      |State          |Zipcode|Country  |Age |Gender|Income|Customer_Segment|Date      |Year  |Month    |Time    |Total_Purchases|Amount     |Total_Amount|Product_Category|Product_Brand|Product_Type|Feedback |Shipping_Method|Payment_Method|Order_Status|Ratings|products         |\n",
      "+--------------+-----------+-------------------+-------------------+------------+---------------------------+----------+---------------+-------+---------+----+------+------+----------------+----------+------+---------+--------+---------------+-----------+------------+----------------+-------------+------------+---------+---------------+--------------+------------+-------+-----------------+\n",
      "|8691788.0     |37249.0    |Michelle Harrington|Ebony39@gmail.com  |1414786801.0|3959 Amanda Burgs          |Dortmund  |Berlin         |77985.0|Germany  |21.0|Male  |Low   |Regular         |9/18/2023 |2023.0|September|22:03:55|3.0            |108.0287567|324.08627   |Clothing        |Nike         |Shorts      |Excellent|Same-Day       |Debit Card    |Shipped     |5.0    |Cycling shorts   |\n",
      "|2174773.0     |69749.0    |Kelsey Hill        |Mark36@gmail.com   |6852899987.0|82072 Dawn Centers         |Nottingham|England        |99071.0|UK       |19.0|Female|Low   |Premium         |12/31/2023|2023.0|December |8:42:04 |2.0            |403.3539073|806.7078147 |Electronics     |Samsung      |Tablet      |Excellent|Standard       |Credit Card   |Processing  |4.0    |Lenovo Tab       |\n",
      "|6679610.0     |30192.0    |Scott Jensen       |Shane85@gmail.com  |8362160449.0|4133 Young Canyon          |Geelong   |New South Wales|75929.0|Australia|48.0|Male  |Low   |Regular         |4/26/2023 |2023.0|April    |4:06:29 |3.0            |354.4775997|1063.432799 |Books           |Penguin Books|Children's  |Average  |Same-Day       |Credit Card   |Processing  |2.0    |Sports equipment |\n",
      "|7232460.0     |62101.0    |Joseph Miller      |Mary34@gmail.com   |2776751724.0|8148 Thomas Creek Suite 100|Edmonton  |Ontario        |88420.0|Canada   |56.0|Male  |High  |Premium         |5/8/2023  |2023.0|May      |14:55:17|7.0            |352.4077173|2466.854021 |Home Decor      |Home Depot   |Tools       |Excellent|Standard       |PayPal        |Processing  |4.0    |Utility knife    |\n",
      "|4983775.0     |27901.0    |Debra Coleman      |Charles30@gmail.com|9098267635.0|5813 Lori Ports Suite 269  |Bristol   |England        |48704.0|UK       |22.0|Male  |Low   |Premium         |1/10/2024 |2024.0|January  |16:54:07|2.0            |124.2765245|248.5530491 |Grocery         |Nestle       |Chocolate   |Bad      |Standard       |Cash          |Shipped     |1.0    |Chocolate cookies|\n",
      "+--------------+-----------+-------------------+-------------------+------------+---------------------------+----------+---------------+-------+---------+----+------+------+----------------+----------+------+---------+--------+---------------+-----------+------------+----------------+-------------+------------+---------+---------------+--------------+------------+-------+-----------------+\n",
      "only showing top 5 rows\n",
      "\n"
     ]
    }
   ],
   "source": [
    "raw_data.show(5,truncate=False)"
   ]
  },
  {
   "cell_type": "code",
   "execution_count": 6,
   "id": "d7f87f6b-b519-4fea-93a3-feee6c9fab1b",
   "metadata": {},
   "outputs": [],
   "source": [
    "casted_data = raw_data.select(\n",
    "\n",
    "    col('Transaction_ID').cast('long'),\n",
    "    col('Customer_ID').cast('long'),\n",
    "    col('Name'),\n",
    "    col('Email'),\n",
    "    col('Phone').cast('string'),\n",
    "    col('Address'),\n",
    "    col('City'),\n",
    "    col('State'),\n",
    "    col('Zipcode'),\n",
    "    col('Country'),\n",
    "    col('Age').cast('integer'),\n",
    "    col('Gender'),\n",
    "    col('Income'),\n",
    "    col('Customer_Segment'),\n",
    "    to_date(col('Date'), 'M/d/yyyy').alias('Date'),\n",
    "    col('Year').cast('integer'),\n",
    "    col('Month'),\n",
    "    col('Time'),\n",
    "    col('Total_Purchases').cast('integer'),\n",
    "    col('Amount').cast('double'),\n",
    "    col('Total_Amount').cast('double'),\n",
    "    col('Product_Category'),\n",
    "    col('Product_Brand'),\n",
    "    col('Product_Type'),\n",
    "    col('Feedback'),\n",
    "    col('Shipping_Method'),\n",
    "    col('Payment_Method'),\n",
    "    col('Order_Status'),\n",
    "    col('Ratings').cast('double'),\n",
    "    col('products')\n",
    ")"
   ]
  },
  {
   "cell_type": "code",
   "execution_count": 7,
   "id": "81a628ef-e3b9-4962-9b1b-a41a908ef5e8",
   "metadata": {},
   "outputs": [
    {
     "name": "stdout",
     "output_type": "stream",
     "text": [
      "+--------------+-----------+-------------------+-------------------+------------+--------------------+----------+---------------+-------+---------+---+------+------+----------------+----------+----+---------+--------+---------------+-----------+------------+----------------+-------------+------------+---------+---------------+--------------+------------+-------+-----------------+\n",
      "|Transaction_ID|Customer_ID|               Name|              Email|       Phone|             Address|      City|          State|Zipcode|  Country|Age|Gender|Income|Customer_Segment|      Date|Year|    Month|    Time|Total_Purchases|     Amount|Total_Amount|Product_Category|Product_Brand|Product_Type| Feedback|Shipping_Method|Payment_Method|Order_Status|Ratings|         products|\n",
      "+--------------+-----------+-------------------+-------------------+------------+--------------------+----------+---------------+-------+---------+---+------+------+----------------+----------+----+---------+--------+---------------+-----------+------------+----------------+-------------+------------+---------+---------------+--------------+------------+-------+-----------------+\n",
      "|       8691788|      37249|Michelle Harrington|  Ebony39@gmail.com|1414786801.0|   3959 Amanda Burgs|  Dortmund|         Berlin|77985.0|  Germany| 21|  Male|   Low|         Regular|2023-09-18|2023|September|22:03:55|              3|108.0287567|   324.08627|        Clothing|         Nike|      Shorts|Excellent|       Same-Day|    Debit Card|     Shipped|    5.0|   Cycling shorts|\n",
      "|       2174773|      69749|        Kelsey Hill|   Mark36@gmail.com|6852899987.0|  82072 Dawn Centers|Nottingham|        England|99071.0|       UK| 19|Female|   Low|         Premium|2023-12-31|2023| December| 8:42:04|              2|403.3539073| 806.7078147|     Electronics|      Samsung|      Tablet|Excellent|       Standard|   Credit Card|  Processing|    4.0|       Lenovo Tab|\n",
      "|       6679610|      30192|       Scott Jensen|  Shane85@gmail.com|8362160449.0|   4133 Young Canyon|   Geelong|New South Wales|75929.0|Australia| 48|  Male|   Low|         Regular|2023-04-26|2023|    April| 4:06:29|              3|354.4775997| 1063.432799|           Books|Penguin Books|  Children's|  Average|       Same-Day|   Credit Card|  Processing|    2.0| Sports equipment|\n",
      "|       7232460|      62101|      Joseph Miller|   Mary34@gmail.com|2776751724.0|8148 Thomas Creek...|  Edmonton|        Ontario|88420.0|   Canada| 56|  Male|  High|         Premium|2023-05-08|2023|      May|14:55:17|              7|352.4077173| 2466.854021|      Home Decor|   Home Depot|       Tools|Excellent|       Standard|        PayPal|  Processing|    4.0|    Utility knife|\n",
      "|       4983775|      27901|      Debra Coleman|Charles30@gmail.com|9098267635.0|5813 Lori Ports S...|   Bristol|        England|48704.0|       UK| 22|  Male|   Low|         Premium|2024-01-10|2024|  January|16:54:07|              2|124.2765245| 248.5530491|         Grocery|       Nestle|   Chocolate|      Bad|       Standard|          Cash|     Shipped|    1.0|Chocolate cookies|\n",
      "+--------------+-----------+-------------------+-------------------+------------+--------------------+----------+---------------+-------+---------+---+------+------+----------------+----------+----+---------+--------+---------------+-----------+------------+----------------+-------------+------------+---------+---------------+--------------+------------+-------+-----------------+\n",
      "only showing top 5 rows\n",
      "\n"
     ]
    }
   ],
   "source": [
    "casted_data.show(5)"
   ]
  },
  {
   "cell_type": "code",
   "execution_count": 8,
   "id": "759a268f-a372-49d1-a53e-d0932766e369",
   "metadata": {},
   "outputs": [
    {
     "data": {
      "text/plain": [
       "Transaction_ID      333\n",
       "Customer_ID         308\n",
       "Name                382\n",
       "Email               347\n",
       "Phone               362\n",
       "Address             315\n",
       "City                248\n",
       "State               281\n",
       "Zipcode             340\n",
       "Country             271\n",
       "Age                 173\n",
       "Gender              317\n",
       "Income              290\n",
       "Customer_Segment    215\n",
       "Date                359\n",
       "Year                350\n",
       "Month               273\n",
       "Time                350\n",
       "Total_Purchases     361\n",
       "Amount              357\n",
       "Total_Amount        350\n",
       "Product_Category    283\n",
       "Product_Brand       281\n",
       "Product_Type          0\n",
       "Feedback            184\n",
       "Shipping_Method     337\n",
       "Payment_Method      297\n",
       "Order_Status        235\n",
       "Ratings             184\n",
       "products              0\n",
       "dtype: int64"
      ]
     },
     "execution_count": 8,
     "metadata": {},
     "output_type": "execute_result"
    }
   ],
   "source": [
    "df.isnull().sum()"
   ]
  },
  {
   "cell_type": "code",
   "execution_count": 9,
   "id": "75839243-5a5a-47a5-972b-e712d2247d81",
   "metadata": {},
   "outputs": [],
   "source": [
    "raw_data =raw_data.dropDuplicates()"
   ]
  },
  {
   "cell_type": "code",
   "execution_count": 10,
   "id": "519e2ca6-1ba4-4a39-a423-e3fd83076945",
   "metadata": {},
   "outputs": [],
   "source": [
    "age_average = int(df['Age'].mean())\n",
    "rating_average = int(df['Ratings'].mean())"
   ]
  },
  {
   "cell_type": "code",
   "execution_count": 11,
   "id": "8eba0b8c-22d3-410a-989b-c434f6d7cfcf",
   "metadata": {},
   "outputs": [],
   "source": [
    "clean_data = casted_data.dropna(subset=['Transaction_ID','Customer_ID','Amount','Total_Amount'])\n",
    "clean_data = clean_data.fillna({'Ratings':rating_average,'City':'Unknown','State':'Unknown','Country':'Unknown','Gender':'Unknown','Income':'Unknown',\n",
    "                               'Customer_Segment':'Unknown','Product_Category':'Unknown','Product_Brand':'Unknown','Shipping_Method':'Unknown','Payment_Method':'Unknown','Age':age_average})"
   ]
  },
  {
   "cell_type": "code",
   "execution_count": 12,
   "id": "dedce11a-255d-406a-bb14-68346ca55dc2",
   "metadata": {},
   "outputs": [],
   "source": [
    "clean_data = clean_data.drop('Name','Email','Phone','Address','Feedback','Order_Status')"
   ]
  },
  {
   "cell_type": "code",
   "execution_count": 13,
   "id": "0e71f45c-a9b3-44a5-b19f-0f79dd086c1f",
   "metadata": {},
   "outputs": [
    {
     "name": "stdout",
     "output_type": "stream",
     "text": [
      "+--------------+-----------+----------+---------------+-------+---------+---+------+------+----------------+----------+----+---------+--------+---------------+-----------+------------+----------------+-------------+------------+---------------+--------------+-------+-----------------+\n",
      "|Transaction_ID|Customer_ID|      City|          State|Zipcode|  Country|Age|Gender|Income|Customer_Segment|      Date|Year|    Month|    Time|Total_Purchases|     Amount|Total_Amount|Product_Category|Product_Brand|Product_Type|Shipping_Method|Payment_Method|Ratings|         products|\n",
      "+--------------+-----------+----------+---------------+-------+---------+---+------+------+----------------+----------+----+---------+--------+---------------+-----------+------------+----------------+-------------+------------+---------------+--------------+-------+-----------------+\n",
      "|       8691788|      37249|  Dortmund|         Berlin|77985.0|  Germany| 21|  Male|   Low|         Regular|2023-09-18|2023|September|22:03:55|              3|108.0287567|   324.08627|        Clothing|         Nike|      Shorts|       Same-Day|    Debit Card|    5.0|   Cycling shorts|\n",
      "|       2174773|      69749|Nottingham|        England|99071.0|       UK| 19|Female|   Low|         Premium|2023-12-31|2023| December| 8:42:04|              2|403.3539073| 806.7078147|     Electronics|      Samsung|      Tablet|       Standard|   Credit Card|    4.0|       Lenovo Tab|\n",
      "|       6679610|      30192|   Geelong|New South Wales|75929.0|Australia| 48|  Male|   Low|         Regular|2023-04-26|2023|    April| 4:06:29|              3|354.4775997| 1063.432799|           Books|Penguin Books|  Children's|       Same-Day|   Credit Card|    2.0| Sports equipment|\n",
      "|       7232460|      62101|  Edmonton|        Ontario|88420.0|   Canada| 56|  Male|  High|         Premium|2023-05-08|2023|      May|14:55:17|              7|352.4077173| 2466.854021|      Home Decor|   Home Depot|       Tools|       Standard|        PayPal|    4.0|    Utility knife|\n",
      "|       4983775|      27901|   Bristol|        England|48704.0|       UK| 22|  Male|   Low|         Premium|2024-01-10|2024|  January|16:54:07|              2|124.2765245| 248.5530491|         Grocery|       Nestle|   Chocolate|       Standard|          Cash|    1.0|Chocolate cookies|\n",
      "+--------------+-----------+----------+---------------+-------+---------+---+------+------+----------------+----------+----+---------+--------+---------------+-----------+------------+----------------+-------------+------------+---------------+--------------+-------+-----------------+\n",
      "only showing top 5 rows\n",
      "\n"
     ]
    }
   ],
   "source": [
    "clean_data.show(5)"
   ]
  },
  {
   "cell_type": "code",
   "execution_count": 14,
   "id": "bca70dd6-05a7-4aa8-a91d-86cbb87c4b8d",
   "metadata": {},
   "outputs": [],
   "source": [
    "clean_data = clean_data.filter(col('Amount') >= 0)\n",
    "clean_data = clean_data.filter(col('Total_Amount') >=0 )\n",
    "clean_data = clean_data.filter((col('Age') >=0 )&(col('Age') <= 100))\n",
    "clean_data = clean_data.filter((col('Ratings') >=1 )&(col('Ratings') <= 5))"
   ]
  },
  {
   "cell_type": "code",
   "execution_count": 15,
   "id": "a2f5d75d-5dff-44a3-b8a6-b56bbed0d5ac",
   "metadata": {},
   "outputs": [],
   "source": [
    "clean_data = clean_data.withColumn('City',lower(trim(col('City'))))\n",
    "clean_data = clean_data.withColumn('State',lower(trim(col('State'))))\n",
    "clean_data = clean_data.withColumn('Country',lower(trim(col('Country'))))\n",
    "clean_data = clean_data.withColumn('Gender',lower(trim(col('Gender'))))\n",
    "clean_data = clean_data.withColumn('Income',lower(trim(col('Income'))))\n",
    "clean_data = clean_data.withColumn('Customer_Segment',lower(trim(col('Customer_Segment'))))\n",
    "clean_data = clean_data.withColumn('Product_Category',lower(trim(col('Product_Category'))))\n",
    "clean_data = clean_data.withColumn('Product_Brand',lower(trim(col('Product_Brand'))))\n",
    "clean_data = clean_data.withColumn('Product_Type',lower(trim(col('Product_Type'))))\n",
    "clean_data = clean_data.withColumn('Shipping_Method',lower(trim(col('Shipping_Method'))))\n",
    "clean_data = clean_data.withColumn('Payment_Method',lower(trim(col('Payment_Method'))))\n",
    "clean_data = clean_data.withColumn('products',lower(trim(col('products'))))"
   ]
  },
  {
   "cell_type": "code",
   "execution_count": 16,
   "id": "cbde3af6-d564-47d4-9807-c10cdd77c9da",
   "metadata": {},
   "outputs": [],
   "source": [
    "def to_snake_case(column_name):\n",
    "    return column_name.lower().replace(' ','_').replace('-','_')\n",
    "\n",
    "final_clean_data = clean_data.select(\n",
    "    [col(column).alias(to_snake_case(column)) for column in clean_data.columns]\n",
    ")"
   ]
  },
  {
   "cell_type": "code",
   "execution_count": 17,
   "id": "676b6af8-fdda-4c8e-9c83-3c17017f2c36",
   "metadata": {},
   "outputs": [
    {
     "name": "stdout",
     "output_type": "stream",
     "text": [
      "+--------------+-----------+----------+---------------+-------+---------+---+------+------+----------------+----------+----+---------+--------+---------------+-----------+------------+----------------+-------------+------------+---------------+--------------+-------+-----------------+\n",
      "|transaction_id|customer_id|      city|          state|zipcode|  country|age|gender|income|customer_segment|      date|year|    month|    time|total_purchases|     amount|total_amount|product_category|product_brand|product_type|shipping_method|payment_method|ratings|         products|\n",
      "+--------------+-----------+----------+---------------+-------+---------+---+------+------+----------------+----------+----+---------+--------+---------------+-----------+------------+----------------+-------------+------------+---------------+--------------+-------+-----------------+\n",
      "|       8691788|      37249|  dortmund|         berlin|77985.0|  germany| 21|  male|   low|         regular|2023-09-18|2023|September|22:03:55|              3|108.0287567|   324.08627|        clothing|         nike|      shorts|       same-day|    debit card|    5.0|   cycling shorts|\n",
      "|       2174773|      69749|nottingham|        england|99071.0|       uk| 19|female|   low|         premium|2023-12-31|2023| December| 8:42:04|              2|403.3539073| 806.7078147|     electronics|      samsung|      tablet|       standard|   credit card|    4.0|       lenovo tab|\n",
      "|       6679610|      30192|   geelong|new south wales|75929.0|australia| 48|  male|   low|         regular|2023-04-26|2023|    April| 4:06:29|              3|354.4775997| 1063.432799|           books|penguin books|  children's|       same-day|   credit card|    2.0| sports equipment|\n",
      "|       7232460|      62101|  edmonton|        ontario|88420.0|   canada| 56|  male|  high|         premium|2023-05-08|2023|      May|14:55:17|              7|352.4077173| 2466.854021|      home decor|   home depot|       tools|       standard|        paypal|    4.0|    utility knife|\n",
      "|       4983775|      27901|   bristol|        england|48704.0|       uk| 22|  male|   low|         premium|2024-01-10|2024|  January|16:54:07|              2|124.2765245| 248.5530491|         grocery|       nestle|   chocolate|       standard|          cash|    1.0|chocolate cookies|\n",
      "+--------------+-----------+----------+---------------+-------+---------+---+------+------+----------------+----------+----+---------+--------+---------------+-----------+------------+----------------+-------------+------------+---------------+--------------+-------+-----------------+\n",
      "only showing top 5 rows\n",
      "\n"
     ]
    }
   ],
   "source": [
    "final_clean_data.show(5)"
   ]
  },
  {
   "cell_type": "code",
   "execution_count": 18,
   "id": "168b479d-c99a-4dcb-a413-aa9022025f74",
   "metadata": {},
   "outputs": [
    {
     "name": "stdout",
     "output_type": "stream",
     "text": [
      "root\n",
      " |-- transaction_id: long (nullable = true)\n",
      " |-- customer_id: long (nullable = true)\n",
      " |-- city: string (nullable = false)\n",
      " |-- state: string (nullable = false)\n",
      " |-- zipcode: string (nullable = true)\n",
      " |-- country: string (nullable = false)\n",
      " |-- age: integer (nullable = false)\n",
      " |-- gender: string (nullable = false)\n",
      " |-- income: string (nullable = false)\n",
      " |-- customer_segment: string (nullable = false)\n",
      " |-- date: date (nullable = true)\n",
      " |-- year: integer (nullable = true)\n",
      " |-- month: string (nullable = true)\n",
      " |-- time: string (nullable = true)\n",
      " |-- total_purchases: integer (nullable = true)\n",
      " |-- amount: double (nullable = true)\n",
      " |-- total_amount: double (nullable = true)\n",
      " |-- product_category: string (nullable = false)\n",
      " |-- product_brand: string (nullable = false)\n",
      " |-- product_type: string (nullable = true)\n",
      " |-- shipping_method: string (nullable = false)\n",
      " |-- payment_method: string (nullable = false)\n",
      " |-- ratings: double (nullable = false)\n",
      " |-- products: string (nullable = true)\n",
      "\n"
     ]
    }
   ],
   "source": [
    "final_clean_data.printSchema()"
   ]
  },
  {
   "cell_type": "code",
   "execution_count": 19,
   "id": "162f1d4c-95d6-465f-a87d-c6d916f45c19",
   "metadata": {},
   "outputs": [
    {
     "name": "stderr",
     "output_type": "stream",
     "text": [
      "                                                                                \r"
     ]
    }
   ],
   "source": [
    "final_clean_data.repartition(1).write.options(header='true',delimiter=',').csv('/home/sinatavakoli2022/Retail-Data-Pipeline/Airflow/data/final_clean_data.csv',mode='overwrite')"
   ]
  }
 ],
 "metadata": {
  "kernelspec": {
   "display_name": "Python 3 (ipykernel)",
   "language": "python",
   "name": "python3"
  },
  "language_info": {
   "codemirror_mode": {
    "name": "ipython",
    "version": 3
   },
   "file_extension": ".py",
   "mimetype": "text/x-python",
   "name": "python",
   "nbconvert_exporter": "python",
   "pygments_lexer": "ipython3",
   "version": "3.12.7"
  }
 },
 "nbformat": 4,
 "nbformat_minor": 5
}
